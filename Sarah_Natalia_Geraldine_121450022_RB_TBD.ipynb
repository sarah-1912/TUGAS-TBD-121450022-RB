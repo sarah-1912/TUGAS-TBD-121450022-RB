{
  "cells": [
    {
      "cell_type": "markdown",
      "metadata": {
        "id": "cxiQDaB_v40k"
      },
      "source": [
        "## TUGAS TEKNOLOGI BASIS DATA RB\n",
        "\n",
        "Nama : Sarah Natalia Geraldine \\\\\n",
        "NIM : 121450022 \\\\\n",
        "Kelas : RB \\\\"
      ]
    },
    {
      "cell_type": "markdown",
      "metadata": {
        "id": "xhaOyoSHv40n"
      },
      "source": [
        "## Kumpulan Data Untuk di Proses"
      ]
    },
    {
      "cell_type": "code",
      "execution_count": null,
      "metadata": {
        "id": "mf42l5ojv40o",
        "outputId": "62b023b2-3a4b-4974-cc87-1d6f9a9b933b"
      },
      "outputs": [
        {
          "name": "stdout",
          "output_type": "stream",
          "text": [
            "Loaded CIFAR-10 training set:\n",
            " - np.shape(images)     (50000, 32, 32, 3)\n",
            " - np.shape(labels)     (50000,)\n"
          ]
        }
      ],
      "source": [
        "import numpy as np\n",
        "import pickle\n",
        "from pathlib import Path\n",
        "\n",
        "# Path to the unzipped CIFAR data\n",
        "data_dir = Path(\"/content/cifar-10-batches-py-20240421T062357Z-001.zip\")\n",
        "\n",
        "# Unpickle function provided by the CIFAR hosts\n",
        "def unpickle(file):\n",
        "    with open(file, \"rb\") as fo:\n",
        "        dict = pickle.load(fo, encoding=\"bytes\")\n",
        "    return dict\n",
        "\n",
        "images, labels = [], []\n",
        "for batch in data_dir.glob(\"data_batch_*\"):\n",
        "    batch_data = unpickle(batch)\n",
        "    for i, flat_im in enumerate(batch_data[b\"data\"]):\n",
        "        im_channels = []\n",
        "        # Each image is flattened, with channels in order of R, G, B\n",
        "        for j in range(3):\n",
        "            im_channels.append(\n",
        "                flat_im[j * 1024 : (j + 1) * 1024].reshape((32, 32))\n",
        "            )\n",
        "        # Reconstruct the original image\n",
        "        images.append(np.dstack((im_channels)))\n",
        "        # Save the label\n",
        "        labels.append(batch_data[b\"labels\"][i])\n",
        "\n",
        "print(\"Loaded CIFAR-10 training set:\")\n",
        "print(f\" - np.shape(images)     {np.shape(images)}\")\n",
        "print(f\" - np.shape(labels)     {np.shape(labels)}\")"
      ]
    },
    {
      "cell_type": "markdown",
      "metadata": {
        "id": "joQ005vov40q"
      },
      "source": [
        "**ANALISIS**\n",
        "\n",
        "Pada tahap awal, kita menetapkan direktori penyimpanan data CIFAR-10 dan membuat fungsi `unpickle()` untuk membaca file pickle. Setelah itu, kita membuat dua daftar kosong: `images` untuk menyimpan gambar dan `labels` untuk menyimpan label setiap gambar.\n",
        "\n",
        "Selanjutnya, kita melakukan iterasi melalui setiap file batch di direktori data. Setiap file dibuka menggunakan fungsi `unpickle` untuk mendapatkan informasi gambar dan labelnya. Gambar-gambar tersebut kemudian direkonstruksi dari data piksel yang telah diratakan. Karena setiap gambar memiliki tiga saluran warna, data piksel dibagi menjadi tiga bagian dan digabungkan kembali untuk membentuk gambar lengkap.\n",
        "\n",
        "Terakhir, ukuran daftar `images` dan `labels` dicetak untuk memastikan bahwa dataset telah dimuat dengan benar, yaitu terdapat 5000 data."
      ]
    },
    {
      "cell_type": "code",
      "execution_count": null,
      "metadata": {
        "id": "rhWhs1ixv40q"
      },
      "outputs": [],
      "source": [
        "from pathlib import Path\n",
        "\n",
        "disk_dir = Path(\"data/disk/\")\n",
        "lmdb_dir = Path(\"data/lmdb/\")\n",
        "hdf5_dir = Path(\"data/hdf5/\")"
      ]
    },
    {
      "cell_type": "markdown",
      "metadata": {
        "id": "7eLsiDyDv40q"
      },
      "source": [
        "**ANALISIS**\n",
        "\n",
        "Setiap objek ini mewakili alamat direktori: `disk_dir` mengarah ke direktori \"data/disk/\", `lmdb_dir` mengarah ke \"data/lmdb/\", dan `hdf5_dir` mengarah ke \"data/hdf5/\". Dengan menggunakan objek-objek ini, Anda bisa dengan mudah melakukan berbagai operasi terkait file dan direktori, seperti manipulasi file, pembuatan direktori baru, atau pengecekan keberadaan file."
      ]
    },
    {
      "cell_type": "code",
      "execution_count": null,
      "metadata": {
        "id": "AeSENUa0v40q"
      },
      "outputs": [],
      "source": [
        "disk_dir.mkdir(parents=True, exist_ok=True)\n",
        "lmdb_dir.mkdir(parents=True, exist_ok=True)\n",
        "hdf5_dir.mkdir(parents=True, exist_ok=True)"
      ]
    },
    {
      "cell_type": "markdown",
      "metadata": {
        "id": "JMPxX5gZv40r"
      },
      "source": [
        "**ANALISIS**\n",
        "\n",
        "Kode di atas memanfaatkan metode `mkdir()` pada objek `Path` untuk membuat direktori yang ditunjuk oleh `disk_dir`, `lmdb_dir`, dan `hdf5_dir`. Argumen `parents=True` digunakan untuk membuat direktori induk jika belum ada, sementara `exist_ok=True` memungkinkan pembuatan direktori tersebut meskipun sudah ada sebelumnya tanpa menimbulkan pesan kesalahan. Dengan cara ini, kode secara efisien membuat tiga direktori yang diperlukan untuk penyimpanan data dalam proyek Anda."
      ]
    },
    {
      "cell_type": "code",
      "execution_count": null,
      "metadata": {
        "id": "Bsdf3E3Pv40r"
      },
      "outputs": [],
      "source": [
        "from PIL import Image\n",
        "import csv\n",
        "\n",
        "def store_single_disk(image, image_id, label):\n",
        "    \"\"\" Stores a single image as a .png file on disk.\n",
        "        Parameters:\n",
        "        ---------------\n",
        "        image       image array, (32, 32, 3) to be stored\n",
        "        image_id    integer unique ID for image\n",
        "        label       image label\n",
        "    \"\"\"\n",
        "    Image.fromarray(image).save(disk_dir / f\"{image_id}.png\")\n",
        "\n",
        "    with open(disk_dir / f\"{image_id}.csv\", \"wt\") as csvfile:\n",
        "        writer = csv.writer(\n",
        "            csvfile, delimiter=\" \", quotechar=\"|\", quoting=csv.QUOTE_MINIMAL\n",
        "        )\n",
        "        writer.writerow([label])"
      ]
    },
    {
      "cell_type": "markdown",
      "metadata": {
        "id": "uCtUdsJTv40r"
      },
      "source": [
        "**ANALISIS**\n",
        "\n",
        "Kode tersebut merupakan fungsi yang dirancang untuk menyimpan gambar dan labelnya ke dalam direktori yang telah dibuat sebelumnya menggunakan objek `Path`. Fungsi `store_single_disk` menerima tiga argumen: gambar sebagai array berdimensi (32, 32, 3), ID unik gambar sebagai integer, dan label gambar. Pertama, gambar disimpan sebagai file .png di dalam direktori `disk_dir` dengan nama file sesuai ID gambar. Selanjutnya, label disimpan ke dalam file .csv di direktori yang sama dengan nama file yang juga mengandung ID gambar tersebut. Dengan fungsi ini, Anda dapat dengan mudah menyimpan gambar-gambar beserta labelnya ke dalam struktur direktori yang telah Anda siapkan sebelumnya."
      ]
    },
    {
      "cell_type": "code",
      "execution_count": null,
      "metadata": {
        "id": "oqBGWLqrv40r"
      },
      "outputs": [],
      "source": [
        "class CIFAR_Image:\n",
        "    def __init__(self, image, label):\n",
        "        # Dimensions of image for reconstruction - not really necessary\n",
        "        # for this dataset, but some datasets may include images of\n",
        "        # varying sizes\n",
        "        self.channels = image.shape[2]\n",
        "        self.size = image.shape[:2]\n",
        "\n",
        "        self.image = image.tobytes()\n",
        "        self.label = label\n",
        "\n",
        "    def get_image(self):\n",
        "        \"\"\" Returns the image as a numpy array. \"\"\"\n",
        "        image = np.frombuffer(self.image, dtype=np.uint8)\n",
        "        return image.reshape(*self.size, self.channels)"
      ]
    },
    {
      "cell_type": "markdown",
      "metadata": {
        "id": "3RIuum4pv40s"
      },
      "source": [
        "**ANALISIS**\n",
        "\n",
        "Kelas `CIFAR_Image` adalah sebuah kelas Python yang digunakan untuk merepresentasikan gambar dari dataset CIFAR. Dalam metode `__init__`, kelas ini menginisialisasi objek dengan atribut seperti jumlah channel (misalnya RGB memiliki tiga channel), dimensi gambar, dan konten gambar yang dikonversi menjadi bytes. Selain itu, kelas ini juga menyimpan label gambar tersebut. Metode `get_image` digunakan untuk mengembalikan gambar dalam bentuk array numpy sesuai dengan dimensi dan channel yang telah disimpan. Dengan kelas ini, Anda dapat dengan mudah mengelola dan memproses gambar-gambar dari dataset CIFAR dalam format yang sesuai untuk analisis lebih lanjut."
      ]
    },
    {
      "cell_type": "code",
      "execution_count": null,
      "metadata": {
        "id": "9rdMDFKnv40s"
      },
      "outputs": [],
      "source": [
        "import lmdb\n",
        "import pickle\n",
        "\n",
        "def store_single_lmdb(image, image_id, label):\n",
        "    \"\"\" Stores a single image to a LMDB.\n",
        "        Parameters:\n",
        "        ---------------\n",
        "        image       image array, (32, 32, 3) to be stored\n",
        "        image_id    integer unique ID for image\n",
        "        label       image label\n",
        "    \"\"\"\n",
        "    map_size = image.nbytes * 10\n",
        "\n",
        "    # Create a new LMDB environment\n",
        "    env = lmdb.open(str(lmdb_dir / f\"single_lmdb\"), map_size=map_size)\n",
        "\n",
        "    # Start a new write transaction\n",
        "    with env.begin(write=True) as txn:\n",
        "        # All key-value pairs need to be strings\n",
        "        value = CIFAR_Image(image, label)\n",
        "        key = f\"{image_id:08}\"\n",
        "        txn.put(key.encode(\"ascii\"), pickle.dumps(value))\n",
        "    env.close()"
      ]
    },
    {
      "cell_type": "markdown",
      "metadata": {
        "id": "evaU3uamv40s"
      },
      "source": [
        "**ANALISIS**\n",
        "\n",
        "Kode di atas merupakan fungsi yang digunakan untuk menyimpan gambar ke dalam basis data LMDB (Lightning Memory-Mapped Database). Fungsi `store_single_lmdb` menerima tiga argumen: gambar berupa array berdimensi (32, 32, 3), ID unik gambar sebagai integer, dan label gambar. Pertama, variabel `map_size` dihitung berdasarkan ukuran gambar untuk menentukan alokasi memori yang diperlukan untuk basis data LMDB.\n",
        "\n",
        "Kemudian, lingkungan LMDB baru dibuat menggunakan `lmdb.open` dengan parameter `map_size` yang sudah dihitung. Selanjutnya, transaksi tulis baru dimulai dengan `env.begin(write=True)`. Karena semua pasangan kunci-nilai dalam LMDB harus berupa string, gambar dan labelnya diwakili sebagai objek `CIFAR_Image` yang di-serialize menggunakan modul `pickle`.\n",
        "\n",
        "Setelah nilai kunci dan nilainya ditentukan, fungsi memasukkan data ke dalam LMDB menggunakan `txn.put`. Akhirnya, setelah transaksi selesai, lingkungan LMDB ditutup dengan `env.close()`. Dengan fungsi ini, Anda dapat menyimpan gambar-gambar dari dataset CIFAR ke dalam basis data LMDB."
      ]
    },
    {
      "cell_type": "code",
      "execution_count": null,
      "metadata": {
        "id": "gyCiuPzdv40s"
      },
      "outputs": [],
      "source": [
        "import h5py\n",
        "\n",
        "def store_single_hdf5(image, image_id, label):\n",
        "    \"\"\" Stores a single image to an HDF5 file.\n",
        "        Parameters:\n",
        "        ---------------\n",
        "        image       image array, (32, 32, 3) to be stored\n",
        "        image_id    integer unique ID for image\n",
        "        label       image label\n",
        "    \"\"\"\n",
        "    # Create a new HDF5 file\n",
        "    file = h5py.File(hdf5_dir / f\"{image_id}.h5\", \"w\")\n",
        "\n",
        "    # Create a dataset in the file\n",
        "    dataset = file.create_dataset(\n",
        "        \"image\", np.shape(image), h5py.h5t.STD_U8BE, data=image\n",
        "    )\n",
        "    meta_set = file.create_dataset(\n",
        "        \"meta\", np.shape(label), h5py.h5t.STD_U8BE, data=label\n",
        "    )\n",
        "    file.close()"
      ]
    },
    {
      "cell_type": "markdown",
      "metadata": {
        "id": "FgeGqHJ9v40t"
      },
      "source": [
        "**ANALISIS**\n",
        "\n",
        "Pertama, sebuah file HDF5 baru dibuat menggunakan `h5py.File` dengan nama file yang sesuai dengan ID gambar. Kemudian, dua dataset dibuat di dalam file HDF5 tersebut: satu untuk gambar dan satu lagi untuk metadata (label). Dataset gambar diberi nama \"image\" dan menggunakan tipe data `h5py.h5t.STD_U8BE` yang merupakan integer 8-bit tanpa tanda dalam format big endian. Dataset metadata juga menggunakan tipe data yang sama. Data gambar dan metadata kemudian dimasukkan ke dalam dataset masing-masing.\n",
        "\n",
        "Setelah data dimasukkan, file HDF5 ditutup menggunakan `file.close()`. Dengan fungsi ini, Anda dapat dengan mudah menyimpan gambar-gambar beserta metadata-nya ke dalam file HDF5 untuk keperluan analisis data lebih lanjut."
      ]
    },
    {
      "cell_type": "code",
      "execution_count": null,
      "metadata": {
        "id": "US3snmLfv40t"
      },
      "outputs": [],
      "source": [
        "_store_single_funcs = dict(\n",
        "    disk=store_single_disk, lmdb=store_single_lmdb, hdf5=store_single_hdf5\n",
        ")"
      ]
    },
    {
      "cell_type": "markdown",
      "metadata": {
        "id": "M_Dh1cHIv40t"
      },
      "source": [
        "**ANALISIS**\n",
        "\n",
        "Baris kode di atas menginisialisasi sebuah kamus yang disebut `_store_single_funcs`, yang berisi tiga fungsi: `store_single_disk`, `store_single_lmdb`, dan `store_single_hdf5`. Setiap fungsi terkait dengan metode penyimpanan data yang berbeda, yaitu penyimpanan di disk, LMDB, dan HDF5. Dengan menggunakan kamus ini, pengguna dapat memilih metode penyimpanan yang sesuai dengan kebutuhan aplikasi dengan memanggil fungsi yang sesuai dengan kunci yang diinginkan, seperti `'disk'` untuk penyimpanan di disk, `'lmdb'` untuk penyimpanan di LMDB, dan `'hdf5'` untuk penyimpanan di HDF5."
      ]
    },
    {
      "cell_type": "code",
      "execution_count": null,
      "metadata": {
        "id": "KWlGhaUZv40t",
        "outputId": "e57b043c-3d67-4a89-bda0-c84239ee40eb"
      },
      "outputs": [
        {
          "name": "stdout",
          "output_type": "stream",
          "text": [
            "Method: disk, Time usage: 0.14079929999979868\n",
            "Method: lmdb, Time usage: 0.005631300000004558\n",
            "Method: hdf5, Time usage: 0.06091969999988578\n"
          ]
        }
      ],
      "source": [
        "from timeit import timeit\n",
        "\n",
        "store_single_timings = dict()\n",
        "\n",
        "for method in (\"disk\", \"lmdb\", \"hdf5\"):\n",
        "    t = timeit(\n",
        "        \"_store_single_funcs[method](image, 0, label)\",\n",
        "        setup=\"image=images[0]; label=labels[0]\",\n",
        "        number=1,\n",
        "        globals=globals(),\n",
        "    )\n",
        "    store_single_timings[method] = t\n",
        "    print(f\"Method: {method}, Time usage: {t}\")"
      ]
    },
    {
      "cell_type": "markdown",
      "metadata": {
        "id": "h-XDbH0Ov40t"
      },
      "source": [
        "**ANALISIS**\n",
        "\n",
        "Berdasarkan hasil yang diperoleh, dapat ditarik kesimpulan bahwa metode lmdb merupakan yang paling efisien dalam hal waktu penyimpanan data, diikuti oleh metode hdf5, dan metode disk merupakan yang memerlukan waktu paling lama di antara ketiganya. Analisis ini memberikan wawasan yang berharga untuk mengevaluasi kinerja relatif dari berbagai metode penyimpanan data, serta membantu dalam pemilihan metode yang paling cocok sesuai dengan kebutuhan aplikasi yang spesifik."
      ]
    },
    {
      "cell_type": "code",
      "execution_count": null,
      "metadata": {
        "id": "Hp-Cf11dv40t"
      },
      "outputs": [],
      "source": [
        "def store_many_disk(images, labels):\n",
        "    \"\"\" Stores an array of images to disk\n",
        "        Parameters:\n",
        "        ---------------\n",
        "        images       images array, (N, 32, 32, 3) to be stored\n",
        "        labels       labels array, (N, 1) to be stored\n",
        "    \"\"\"\n",
        "    num_images = len(images)\n",
        "\n",
        "    # Save all the images one by one\n",
        "    for i, image in enumerate(images):\n",
        "        Image.fromarray(image).save(disk_dir / f\"{i}.png\")\n",
        "\n",
        "    # Save all the labels to the csv file\n",
        "    with open(disk_dir / f\"{num_images}.csv\", \"w\") as csvfile:\n",
        "        writer = csv.writer(\n",
        "            csvfile, delimiter=\" \", quotechar=\"|\", quoting=csv.QUOTE_MINIMAL\n",
        "        )\n",
        "        for label in labels:\n",
        "            # This typically would be more than just one value per row\n",
        "            writer.writerow([label])\n",
        "\n",
        "def store_many_lmdb(images, labels):\n",
        "    \"\"\" Stores an array of images to LMDB.\n",
        "        Parameters:\n",
        "        ---------------\n",
        "        images       images array, (N, 32, 32, 3) to be stored\n",
        "        labels       labels array, (N, 1) to be stored\n",
        "    \"\"\"\n",
        "    num_images = len(images)\n",
        "\n",
        "    map_size = num_images * images[0].nbytes * 10\n",
        "\n",
        "    # Create a new LMDB DB for all the images\n",
        "    env = lmdb.open(str(lmdb_dir / f\"{num_images}_lmdb\"), map_size=map_size)\n",
        "\n",
        "    # Same as before — but let's write all the images in a single transaction\n",
        "    with env.begin(write=True) as txn:\n",
        "        for i in range(num_images):\n",
        "            # All key-value pairs need to be Strings\n",
        "            value = CIFAR_Image(images[i], labels[i])\n",
        "            key = f\"{i:08}\"\n",
        "            txn.put(key.encode(\"ascii\"), pickle.dumps(value))\n",
        "    env.close()\n",
        "\n",
        "def store_many_hdf5(images, labels):\n",
        "    \"\"\" Stores an array of images to HDF5.\n",
        "        Parameters:\n",
        "        ---------------\n",
        "        images       images array, (N, 32, 32, 3) to be stored\n",
        "        labels       labels array, (N, 1) to be stored\n",
        "    \"\"\"\n",
        "    num_images = len(images)\n",
        "\n",
        "    # Create a new HDF5 file\n",
        "    file = h5py.File(hdf5_dir / f\"{num_images}_many.h5\", \"w\")\n",
        "\n",
        "    # Create a dataset in the file\n",
        "    dataset = file.create_dataset(\n",
        "        \"images\", np.shape(images), h5py.h5t.STD_U8BE, data=images\n",
        "    )\n",
        "    meta_set = file.create_dataset(\n",
        "        \"meta\", np.shape(labels), h5py.h5t.STD_U8BE, data=labels\n",
        "    )\n",
        "    file.close()"
      ]
    },
    {
      "cell_type": "markdown",
      "metadata": {
        "id": "e1zsuJiOv40u"
      },
      "source": [
        "**ANALISIS**\n",
        "\n",
        "Fungsi `store_many_disk` berfungsi untuk menyimpan kumpulan gambar beserta labelnya ke dalam disk dengan menyimpan setiap gambar dalam format .png dan labelnya dalam file .csv terpisah.\n",
        "\n",
        "Fungsi `store_many_lmdb` bertugas untuk menyimpan kumpulan gambar beserta labelnya ke dalam basis data LMDB dengan menyimpan setiap gambar dan labelnya dalam satu transaksi tunggal di dalam basis data tersebut.\n",
        "\n",
        "Fungsi `store_many_hdf5` berperan dalam menyimpan kumpulan gambar beserta labelnya ke dalam file HDF5 dengan menyimpan seluruh array gambar dalam satu dataset bernama \"images\" dan seluruh array label dalam satu dataset bernama \"meta\".\n",
        "\n",
        "Ketiga fungsi ini menerima dua argumen: array gambar dengan dimensi (N, 32, 32, 3) dan array label dengan dimensi (N, 1), di mana N adalah jumlah gambar yang akan disimpan."
      ]
    },
    {
      "cell_type": "code",
      "execution_count": null,
      "metadata": {
        "id": "ZoxY0YkFv40u",
        "outputId": "8c4e6a19-59aa-48a7-8c4d-18ad26c8d8df"
      },
      "outputs": [
        {
          "name": "stdout",
          "output_type": "stream",
          "text": [
            "(100000, 32, 32, 3)\n",
            "(100000,)\n"
          ]
        }
      ],
      "source": [
        "cutoffs = [10, 100, 1000, 10000, 100000]\n",
        "\n",
        "# Let's double our images so that we have 100,000\n",
        "images = np.concatenate((images, images), axis=0)\n",
        "labels = np.concatenate((labels, labels), axis=0)\n",
        "\n",
        "# Make sure you actually have 100,000 images and labels\n",
        "print(np.shape(images))\n",
        "print(np.shape(labels))"
      ]
    },
    {
      "cell_type": "markdown",
      "metadata": {
        "id": "XQamvolLv40u"
      },
      "source": [
        "**ANALISIS**\n",
        "\n",
        "Output tersebut mengindikasikan bahwa setelah melipatgandakan jumlah gambar (images) dan label (labels) dari sebelumnya, kini terdapat 100.000 gambar dalam format array dengan dimensi (100000, 32, 32, 3) dan 100.000 label dalam format array dengan dimensi (100000,). Ini ditegaskan oleh hasil cetak dari `np.shape(images)` yang menampilkan dimensi (100000, 32, 32, 3) dan `np.shape(labels)` yang menunjukkan dimensi (100000,). Dengan kata lain, jumlah gambar dan label berhasil ditingkatkan menjadi 100.000 seperti yang diinginkan."
      ]
    },
    {
      "cell_type": "code",
      "execution_count": null,
      "metadata": {
        "id": "yOiRMQxev40u",
        "outputId": "f0133349-12c7-4aff-d98a-1911cd3fa638"
      },
      "outputs": [
        {
          "name": "stdout",
          "output_type": "stream",
          "text": [
            "Method: disk, Time usage: 0.043001499999945736\n",
            "Method: lmdb, Time usage: 0.013635200000180703\n",
            "Method: hdf5, Time usage: 0.054849900000135676\n",
            "Method: disk, Time usage: 0.16676769999980934\n",
            "Method: lmdb, Time usage: 0.005678900000020803\n",
            "Method: hdf5, Time usage: 0.0023858000001837354\n",
            "Method: disk, Time usage: 1.6323519000000033\n",
            "Method: lmdb, Time usage: 0.03800269999987904\n",
            "Method: hdf5, Time usage: 0.005430300000170973\n",
            "Method: disk, Time usage: 12.146795200000042\n",
            "Method: lmdb, Time usage: 0.29728830000021844\n",
            "Method: hdf5, Time usage: 0.025982599999679223\n",
            "Method: disk, Time usage: 142.75358489999962\n",
            "Method: lmdb, Time usage: 4.296912700000121\n",
            "Method: hdf5, Time usage: 0.46554439999999886\n"
          ]
        }
      ],
      "source": [
        "_store_many_funcs = dict(\n",
        "    disk=store_many_disk, lmdb=store_many_lmdb, hdf5=store_many_hdf5\n",
        ")\n",
        "\n",
        "from timeit import timeit\n",
        "\n",
        "store_many_timings = {\"disk\": [], \"lmdb\": [], \"hdf5\": []}\n",
        "\n",
        "for cutoff in cutoffs:\n",
        "    for method in (\"disk\", \"lmdb\", \"hdf5\"):\n",
        "        t = timeit(\n",
        "            \"_store_many_funcs[method](images_, labels_)\",\n",
        "            setup=\"images_=images[:cutoff]; labels_=labels[:cutoff]\",\n",
        "            number=1,\n",
        "            globals=globals(),\n",
        "        )\n",
        "        store_many_timings[method].append(t)\n",
        "\n",
        "        # Print out the method, cutoff, and elapsed time\n",
        "        print(f\"Method: {method}, Time usage: {t}\")"
      ]
    },
    {
      "cell_type": "markdown",
      "metadata": {
        "id": "FDheEDGmv40v"
      },
      "source": [
        "**ANALISIS**\n",
        "\n",
        "Hasil output tersebut menggambarkan waktu yang diperlukan (dalam detik) oleh setiap metode (`disk`, `lmdb`, `hdf5`) untuk menyimpan berbagai jumlah gambar dan label, yang ditentukan berdasarkan nilai cutoff sebelumnya (10, 100, 1000, 10000, 100000).\n",
        "\n",
        "Pertama, saat nilai cutoff adalah 10, waktu yang dibutuhkan untuk metode `disk` sekitar 0.043 detik, untuk metode `lmdb` sekitar 0.013 detik, dan untuk metode `hdf5` sekitar 0.054 detik.\n",
        "\n",
        "Kedua, ketika nilai cutoff meningkat menjadi 100, waktu yang diperlukan untuk metode `disk` meningkat menjadi sekitar 0.167 detik, sementara metode `lmdb` menjadi sekitar 0.005 detik, dan metode `hdf5` menjadi sekitar 0.002 detik.\n",
        "\n",
        "Ketiga, dengan terus bertambahnya nilai cutoff hingga mencapai 100000, waktu yang dibutuhkan juga meningkat secara signifikan. Metode `disk` memerlukan waktu sekitar 12.147 detik, metode `lmdb` sekitar 0.297 detik, dan metode `hdf5` sekitar 0.026 detik.\n",
        "\n",
        "Analisis ini menunjukkan bahwa performa relatif dari masing-masing metode berbeda tergantung pada jumlah data yang disimpan. Metode `lmdb` cenderung lebih cepat dalam eksekusi, terutama ketika jumlah data meningkat. Sedangkan metode `disk` membutuhkan waktu lebih lama karena keterlibatan operasi I/O pada disk, dan metode `hdf5` menunjukkan waktu eksekusi yang stabil tergantung pada jumlah data yang disimpan."
      ]
    },
    {
      "cell_type": "code",
      "execution_count": null,
      "metadata": {
        "id": "C-Py5IP0v40v",
        "outputId": "ba0516b0-6ff8-45b5-b893-945421b4c9f8"
      },
      "outputs": [
        {
          "name": "stderr",
          "output_type": "stream",
          "text": [
            "C:\\Users\\ASUS\\AppData\\Local\\Temp\\ipykernel_12376\\2568719458.py:15: MatplotlibDeprecationWarning: The seaborn styles shipped by Matplotlib are deprecated since 3.6, as they no longer correspond to the styles shipped by seaborn. However, they will remain available as 'seaborn-v0_8-<style>'. Alternatively, directly use the seaborn API instead.\n",
            "  plt.style.use(\"seaborn-whitegrid\")\n"
          ]
        },
        {
          "data": {
            "image/png": "[encoded data removed]",
            "text/plain": [
              "<Figure size 1000x700 with 1 Axes>"
            ]
          },
          "metadata": {},
          "output_type": "display_data"
        },
        {
          "name": "stderr",
          "output_type": "stream",
          "text": [
            "C:\\Users\\ASUS\\AppData\\Local\\Temp\\ipykernel_12376\\2568719458.py:15: MatplotlibDeprecationWarning: The seaborn styles shipped by Matplotlib are deprecated since 3.6, as they no longer correspond to the styles shipped by seaborn. However, they will remain available as 'seaborn-v0_8-<style>'. Alternatively, directly use the seaborn API instead.\n",
            "  plt.style.use(\"seaborn-whitegrid\")\n"
          ]
        },
        {
          "data": {
            "image/png": "[encoded data removed]",
            "text/plain": [
              "<Figure size 1000x700 with 1 Axes>"
            ]
          },
          "metadata": {},
          "output_type": "display_data"
        }
      ],
      "source": [
        "import matplotlib.pyplot as plt\n",
        "\n",
        "def plot_with_legend(\n",
        "    x_range, y_data, legend_labels, x_label, y_label, title, log=False\n",
        "):\n",
        "    \"\"\" Displays a single plot with multiple datasets and matching legends.\n",
        "        Parameters:\n",
        "        --------------\n",
        "        x_range         list of lists containing x data\n",
        "        y_data          list of lists containing y values\n",
        "        legend_labels   list of string legend labels\n",
        "        x_label         x axis label\n",
        "        y_label         y axis label\n",
        "    \"\"\"\n",
        "    plt.style.use(\"seaborn-whitegrid\")\n",
        "    plt.figure(figsize=(10, 7))\n",
        "\n",
        "    if len(y_data) != len(legend_labels):\n",
        "        raise TypeError(\n",
        "            \"Error: number of data sets does not match number of labels.\"\n",
        "        )\n",
        "\n",
        "    all_plots = []\n",
        "    for data, label in zip(y_data, legend_labels):\n",
        "        if log:\n",
        "            temp, = plt.loglog(x_range, data, label=label)\n",
        "        else:\n",
        "            temp, = plt.plot(x_range, data, label=label)\n",
        "        all_plots.append(temp)\n",
        "\n",
        "    plt.title(title)\n",
        "    plt.xlabel(x_label)\n",
        "    plt.ylabel(y_label)\n",
        "    plt.legend(handles=all_plots)\n",
        "    plt.show()\n",
        "\n",
        "# Getting the store timings data to display\n",
        "disk_x = store_many_timings[\"disk\"]\n",
        "lmdb_x = store_many_timings[\"lmdb\"]\n",
        "hdf5_x = store_many_timings[\"hdf5\"]\n",
        "\n",
        "plot_with_legend(\n",
        "    cutoffs,\n",
        "    [disk_x, lmdb_x, hdf5_x],\n",
        "    [\"PNG files\", \"LMDB\", \"HDF5\"],\n",
        "    \"Number of images\",\n",
        "    \"Seconds to store\",\n",
        "    \"Storage time\",\n",
        "    log=False,\n",
        ")\n",
        "\n",
        "plot_with_legend(\n",
        "    cutoffs,\n",
        "    [disk_x, lmdb_x, hdf5_x],\n",
        "    [\"PNG files\", \"LMDB\", \"HDF5\"],\n",
        "    \"Number of images\",\n",
        "    \"Seconds to store\",\n",
        "    \"Log storage time\",\n",
        "    log=True,\n",
        ")"
      ]
    },
    {
      "cell_type": "code",
      "execution_count": null,
      "metadata": {
        "id": "-u8zLzp4v40v"
      },
      "outputs": [],
      "source": [
        "def read_single_disk(image_id):\n",
        "    \"\"\" Stores a single image to disk.\n",
        "        Parameters:\n",
        "        ---------------\n",
        "        image_id    integer unique ID for image\n",
        "\n",
        "        Returns:\n",
        "        ----------\n",
        "        image       image array, (32, 32, 3) to be stored\n",
        "        label       associated meta data, int label\n",
        "    \"\"\"\n",
        "    image = np.array(Image.open(disk_dir / f\"{image_id}.png\"))\n",
        "\n",
        "    with open(disk_dir / f\"{image_id}.csv\", \"r\") as csvfile:\n",
        "        reader = csv.reader(\n",
        "            csvfile, delimiter=\" \", quotechar=\"|\", quoting=csv.QUOTE_MINIMAL\n",
        "        )\n",
        "        label = int(next(reader)[0])\n",
        "\n",
        "    return image, label"
      ]
    },
    {
      "cell_type": "markdown",
      "metadata": {
        "id": "62nfuy5pv40v"
      },
      "source": [
        "**PENJELASAN CODE**\n",
        "\n",
        "Fungsi `read_single_disk` ini digunakan untuk membaca sebuah gambar dan labelnya yang telah disimpan dalam disk. Gambar dibaca menggunakan `Image.open` dari modul PIL dan kemudian diubah menjadi array numpy.\n",
        "\n",
        "Fungsi ini mengembalikan gambar dalam bentuk array dengan dimensi (32, 32, 3) dan labelnya dalam bentuk integer."
      ]
    },
    {
      "cell_type": "code",
      "execution_count": null,
      "metadata": {
        "id": "f_xUGwlEv40v"
      },
      "outputs": [],
      "source": [
        "def read_single_lmdb(image_id):\n",
        "    \"\"\" Stores a single image to LMDB.\n",
        "        Parameters:\n",
        "        ---------------\n",
        "        image_id    integer unique ID for image\n",
        "\n",
        "        Returns:\n",
        "        ----------\n",
        "        image       image array, (32, 32, 3) to be stored\n",
        "        label       associated meta data, int label\n",
        "    \"\"\"\n",
        "    # Open the LMDB environment\n",
        "    env = lmdb.open(str(lmdb_dir / f\"single_lmdb\"), readonly=True)\n",
        "\n",
        "    # Start a new read transaction\n",
        "    with env.begin() as txn:\n",
        "        # Encode the key the same way as we stored it\n",
        "        data = txn.get(f\"{image_id:08}\".encode(\"ascii\"))\n",
        "        # Remember it's a CIFAR_Image object that is loaded\n",
        "        cifar_image = pickle.loads(data)\n",
        "        # Retrieve the relevant bits\n",
        "        image = cifar_image.get_image()\n",
        "        label = cifar_image.label\n",
        "    env.close()\n",
        "\n",
        "    return image, label"
      ]
    },
    {
      "cell_type": "markdown",
      "metadata": {
        "id": "e2v0GMRIv40w"
      },
      "source": [
        "**PENJELASAN CODE**\n",
        "\n",
        "Fungsi `read_single_lmdb` bertujuan untuk membaca gambar dan label yang telah disimpan dalam basis data LMDB. Fungsi ini menerima satu argumen, yaitu `image_id`, yang merupakan ID unik dari gambar yang akan dibaca.\n",
        "\n",
        "Pertama, lingkungan LMDB dibuka dengan mode baca saja (readonly=True) menggunakan `lmdb.open`. Selanjutnya, transaksi baca baru dimulai dengan `env.begin()`. Key yang digunakan untuk mengambil data harus diencode dengan metode yang sama seperti saat data disimpan.\n",
        "\n",
        "Kemudian, data gambar diambil dari basis data LMDB dengan menggunakan `txn.get`. Data tersebut kemudian didecode menggunakan `pickle.loads` karena data gambar disimpan sebagai objek CIFAR_Image saat disimpan.\n",
        "\n",
        "Setelah data diambil, gambar direkonstruksi menggunakan metode `get_image()` dari objek CIFAR_Image, sementara labelnya diambil langsung dari atribut label pada objek tersebut.\n",
        "\n",
        "Terakhir, lingkungan LMDB ditutup dan gambar beserta labelnya dikembalikan sebagai output dari fungsi. Dengan menggunakan fungsi ini."
      ]
    },
    {
      "cell_type": "code",
      "execution_count": null,
      "metadata": {
        "id": "y6TWifSDv40w"
      },
      "outputs": [],
      "source": [
        "def read_single_hdf5(image_id):\n",
        "    \"\"\" Stores a single image to HDF5.\n",
        "        Parameters:\n",
        "        ---------------\n",
        "        image_id    integer unique ID for image\n",
        "\n",
        "        Returns:\n",
        "        ----------\n",
        "        image       image array, (32, 32, 3) to be stored\n",
        "        label       associated meta data, int label\n",
        "    \"\"\"\n",
        "    # Open the HDF5 file\n",
        "    file = h5py.File(hdf5_dir / f\"{image_id}.h5\", \"r+\")\n",
        "\n",
        "    image = np.array(file[\"/image\"]).astype(\"uint8\")\n",
        "    label = int(np.array(file[\"/meta\"]).astype(\"uint8\"))\n",
        "\n",
        "    return image, label"
      ]
    },
    {
      "cell_type": "markdown",
      "metadata": {
        "id": "NbEiVomwv40w"
      },
      "source": [
        "Fungsi `read_single_hdf5` berperan dalam membaca sebuah gambar dan label yang tersimpan dalam file HDF5. Fungsi ini menerima satu argumen, yaitu `image_id`, yang merupakan ID unik untuk gambar yang ingin dibaca.\n",
        "\n",
        "Pertama, file HDF5 dibuka dengan mode baca dan tulis (r+ mode) menggunakan `h5py.File`. Gambar kemudian dibaca dari dataset \"image\" dalam file HDF5 dan diubah menjadi array numpy dengan tipe data `uint8` (unsigned integer 8-bit). Selanjutnya, label dibaca dari dataset \"meta\" dan juga diubah menjadi integer dengan tipe data `uint8`.\n",
        "\n",
        "Setelah proses membaca data gambar dan label selesai, file HDF5 ditutup dan gambar beserta labelnya dikembalikan sebagai output dari fungsi."
      ]
    },
    {
      "cell_type": "code",
      "execution_count": null,
      "metadata": {
        "id": "XD2p1EV6v40w"
      },
      "outputs": [],
      "source": [
        "_read_single_funcs = dict(\n",
        "    disk=read_single_disk, lmdb=read_single_lmdb, hdf5=read_single_hdf5\n",
        ")"
      ]
    },
    {
      "cell_type": "markdown",
      "metadata": {
        "id": "gkPRuAoSv40w"
      },
      "source": [
        "**PENJELASAN CODE**\n",
        "\n",
        "Kode `_read_single_funcs` menginisialisasi sebuah kamus yang berisi tiga fungsi: `read_single_disk`, `read_single_lmdb`, dan `read_single_hdf5`, masing-masing terkait dengan metode membaca data dari lokasi penyimpanan yang berbeda (`disk`, `lmdb`, dan `hdf5`). Pendekatan ini memungkinkan penggunaan kamus ini untuk memilih metode membaca yang sesuai dengan kebutuhan aplikasi, dengan cukup memanggil fungsi yang sesuai dengan kunci yang diinginkan, seperti `'disk'` untuk membaca dari disk, `'lmdb'` untuk membaca dari LMDB, dan `'hdf5'` untuk membaca dari HDF5."
      ]
    },
    {
      "cell_type": "code",
      "execution_count": null,
      "metadata": {
        "id": "UCtX0a5Sv40w",
        "outputId": "934edcd8-5d62-4c7f-a0e6-ef6c27c32a4a"
      },
      "outputs": [
        {
          "name": "stdout",
          "output_type": "stream",
          "text": [
            "Method: disk, Time usage: 0.03221690000009403\n",
            "Method: lmdb, Time usage: 0.029903999999987718\n",
            "Method: hdf5, Time usage: 0.020119400000112364\n"
          ]
        }
      ],
      "source": [
        "from timeit import timeit\n",
        "\n",
        "read_single_timings = dict()\n",
        "\n",
        "for method in (\"disk\", \"lmdb\", \"hdf5\"):\n",
        "    t = timeit(\n",
        "        \"_read_single_funcs[method](0)\",\n",
        "        setup=\"image=images[0]; label=labels[0]\",\n",
        "        number=1,\n",
        "        globals=globals(),\n",
        "    )\n",
        "    read_single_timings[method] = t\n",
        "    print(f\"Method: {method}, Time usage: {t}\")"
      ]
    },
    {
      "cell_type": "markdown",
      "metadata": {
        "id": "tUEDKemnv40x"
      },
      "source": [
        "**PENJELASAN CODE**\n",
        "\n",
        "Hasil output tersebut menampilkan waktu yang dibutuhkan (dalam detik) oleh tiap metode (`disk`, `lmdb`, `hdf5`) untuk membaca sebuah gambar dan label dari lokasi penyimpanan yang berbeda.\n",
        "\n",
        "Dari hasil tersebut, dapat disimpulkan bahwa metode `hdf5` adalah yang paling efisien dalam hal waktu membaca data, diikuti oleh metode `lmdb`, dan metode `disk` menjadi yang paling lambat di antara ketiganya. Informasi ini sangat penting untuk mengevaluasi performa relatif dari berbagai metode membaca data dan memilih yang paling cocok sesuai dengan kebutuhan aplikasi yang spesifik."
      ]
    },
    {
      "cell_type": "code",
      "execution_count": null,
      "metadata": {
        "id": "rNgkN647v40x"
      },
      "outputs": [],
      "source": [
        "def read_many_disk(num_images):\n",
        "    \"\"\" Reads image from disk.\n",
        "        Parameters:\n",
        "        ---------------\n",
        "        num_images   number of images to read\n",
        "\n",
        "        Returns:\n",
        "        ----------\n",
        "        images      images array, (N, 32, 32, 3) to be stored\n",
        "        labels      associated meta data, int label (N, 1)\n",
        "    \"\"\"\n",
        "    images, labels = [], []\n",
        "\n",
        "    # Loop over all IDs and read each image in one by one\n",
        "    for image_id in range(num_images):\n",
        "        images.append(np.array(Image.open(disk_dir / f\"{image_id}.png\")))\n",
        "\n",
        "    with open(disk_dir / f\"{num_images}.csv\", \"r\") as csvfile:\n",
        "        reader = csv.reader(\n",
        "            csvfile, delimiter=\" \", quotechar=\"|\", quoting=csv.QUOTE_MINIMAL\n",
        "        )\n",
        "        for row in reader:\n",
        "            labels.append(int(row[0]))\n",
        "    return images, labels\n",
        "\n",
        "def read_many_lmdb(num_images):\n",
        "    \"\"\" Reads image from LMDB.\n",
        "        Parameters:\n",
        "        ---------------\n",
        "        num_images   number of images to read\n",
        "\n",
        "        Returns:\n",
        "        ----------\n",
        "        images      images array, (N, 32, 32, 3) to be stored\n",
        "        labels      associated meta data, int label (N, 1)\n",
        "    \"\"\"\n",
        "    images, labels = [], []\n",
        "    env = lmdb.open(str(lmdb_dir / f\"{num_images}_lmdb\"), readonly=True)\n",
        "\n",
        "    # Start a new read transaction\n",
        "    with env.begin() as txn:\n",
        "        # Read all images in one single transaction, with one lock\n",
        "        # We could split this up into multiple transactions if needed\n",
        "        for image_id in range(num_images):\n",
        "            data = txn.get(f\"{image_id:08}\".encode(\"ascii\"))\n",
        "            # Remember that it's a CIFAR_Image object\n",
        "            # that is stored as the value\n",
        "            cifar_image = pickle.loads(data)\n",
        "            # Retrieve the relevant bits\n",
        "            images.append(cifar_image.get_image())\n",
        "            labels.append(cifar_image.label)\n",
        "    env.close()\n",
        "    return images, labels\n",
        "\n",
        "def read_many_hdf5(num_images):\n",
        "    \"\"\" Reads image from HDF5.\n",
        "        Parameters:\n",
        "        ---------------\n",
        "        num_images   number of images to read\n",
        "\n",
        "        Returns:\n",
        "        ----------\n",
        "        images      images array, (N, 32, 32, 3) to be stored\n",
        "        labels      associated meta data, int label (N, 1)\n",
        "    \"\"\"\n",
        "    images, labels = [], []\n",
        "\n",
        "    # Open the HDF5 file\n",
        "    file = h5py.File(hdf5_dir / f\"{num_images}_many.h5\", \"r+\")\n",
        "\n",
        "    images = np.array(file[\"/images\"]).astype(\"uint8\")\n",
        "    labels = np.array(file[\"/meta\"]).astype(\"uint8\")\n",
        "\n",
        "    return images, labels\n",
        "\n",
        "_read_many_funcs = dict(\n",
        "    disk=read_many_disk, lmdb=read_many_lmdb, hdf5=read_many_hdf5\n",
        ")"
      ]
    },
    {
      "cell_type": "markdown",
      "metadata": {
        "id": "a9bFGHP0v40x"
      },
      "source": [
        "**PENJELASAN CODE**\n",
        "\n",
        "Kode di atas menguraikan tiga fungsi, yaitu `read_many_disk`, `read_many_lmdb`, dan `read_many_hdf5`, yang bertujuan membaca sejumlah gambar dan label dari beragam lokasi penyimpanan, seperti disk, LMDB, dan HDF5.\n",
        "\n",
        "Fungsi `read_many_disk` bertugas membaca gambar dan label dari disk dengan membuka file .png untuk setiap gambar dan file .csv untuk labelnya. Proses ini diimplementasikan melalui loop dan memanfaatkan modul PIL untuk membaca gambar.\n",
        "\n",
        "Fungsi `read_many_lmdb` berperan membaca gambar dan label dari basis data LMDB dengan membuka transaksi baca menggunakan modul lmdb. Proses ini dilakukan dengan loop untuk mengambil data gambar dan label dari setiap kunci yang sesuai dalam basis data.\n",
        "\n",
        "Sementara itu, fungsi `read_many_hdf5` bertanggung jawab membaca gambar dan label dari file HDF5 dengan membuka file tersebut dan membaca dataset \"images\" dan \"meta\".\n",
        "\n",
        "Kamus `_read_many_funcs` digunakan untuk mengelompokkan ketiga fungsi pembacaan tersebut berdasarkan lokasi penyimpanan yang berbeda (disk, LMDB, HDF5)."
      ]
    }
  ],
  "metadata": {
    "kernelspec": {
      "display_name": "Python 3",
      "language": "python",
      "name": "python3"
    },
    "language_info": {
      "codemirror_mode": {
        "name": "ipython",
        "version": 3
      },
      "file_extension": ".py",
      "mimetype": "text/x-python",
      "name": "python",
      "nbconvert_exporter": "python",
      "pygments_lexer": "ipython3",
      "version": "3.9.13"
    },
    "colab": {
      "provenance": []
    }
  },
  "nbformat": 4,
  "nbformat_minor": 0
}